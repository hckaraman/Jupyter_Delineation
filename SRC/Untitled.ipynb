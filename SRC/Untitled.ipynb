{
 "cells": [
  {
   "cell_type": "code",
   "execution_count": 19,
   "metadata": {},
   "outputs": [
    {
     "data": {
      "application/vnd.jupyter.widget-view+json": {
       "model_id": "aa5665ad605641f2baf91b4ce29990e9",
       "version_major": 2,
       "version_minor": 0
      },
      "text/plain": [
       "Map(center=[39.4, 36], controls=(ZoomControl(options=['position', 'zoom_in_text', 'zoom_in_title', 'zoom_out_t…"
      ]
     },
     "metadata": {},
     "output_type": "display_data"
    }
   ],
   "source": [
    "from ipyleaflet import Map, GeoJSON, Marker\n",
    "from ipywidgets import HTML\n",
    "from ipyleaflet import Icon, Marker, MarkerCluster\n",
    "import json\n",
    "\n",
    "\n",
    "from ipyleaflet import (\n",
    "    Map,\n",
    "    Marker,\n",
    "    TileLayer, ImageOverlay,\n",
    "    Polyline, Polygon, Rectangle, Circle, CircleMarker,\n",
    "    GeoJSON,\n",
    "    DrawControl\n",
    ")\n",
    "\n",
    "dc = DrawControl(marker={'shapeOptions': {'color': '#0000FF'}},\n",
    "                 rectangle={'shapeOptions': {'color': '#0000FF'}},\n",
    "                 circle={'shapeOptions': {'color': '#0000FF'}},\n",
    "                 circlemarker={},\n",
    "                 )\n",
    "\n",
    "\n",
    "\n",
    "map.add_control(dc)\n",
    "\n",
    "map"
   ]
  },
  {
   "cell_type": "code",
   "execution_count": 30,
   "metadata": {},
   "outputs": [
    {
     "data": {
      "text/plain": [
       "[28.476, 38.406792]"
      ]
     },
     "execution_count": 30,
     "metadata": {},
     "output_type": "execute_result"
    }
   ],
   "source": [
    "dc.last_draw['geometry']['coordinates']"
   ]
  },
  {
   "cell_type": "code",
   "execution_count": 37,
   "metadata": {},
   "outputs": [
    {
     "name": "stdout",
     "output_type": "stream",
     "text": [
      "thread 'main' panicked at 'capacity overflow', src/liballoc/raw_vec.rs:777:5\n",
      "note: run with `RUST_BACKTRACE=1` environment variable to display a backtrace.\n"
     ]
    }
   ],
   "source": [
    "from Basin_Delineation import *\n",
    "# lat,lon\n",
    "x, y = dc.last_draw['geometry']['coordinates'][0], dc.last_draw['geometry']['coordinates'][1]\n",
    "margin = 0.25\n",
    "treshold = 2\n",
    "snap_dist = 0.05\n",
    "run(x, y, margin, treshold, snap_dist)"
   ]
  },
  {
   "cell_type": "code",
   "execution_count": 29,
   "metadata": {},
   "outputs": [],
   "source": [
    "with open('/home/cak/Desktop/Jupyter_Delineation/Data/DEM/river.geojson', 'r') as f:\n",
    "    data = json.load(f)\n",
    "with open('/home/cak/Desktop/Jupyter_Delineation/Data/DEM/basin_boundary.geojson', 'r') as f:\n",
    "    data1 = json.load(f)\n",
    "map = Map(center=[39.4, 36], interpolation='nearest', zoom=6)\n",
    "geo = GeoJSON(data=data)\n",
    "geo1 = GeoJSON(data=data1)\n",
    "map.add_layer(geo)\n",
    "map.add_layer(geo1)"
   ]
  },
  {
   "cell_type": "code",
   "execution_count": null,
   "metadata": {},
   "outputs": [],
   "source": []
  }
 ],
 "metadata": {
  "kernelspec": {
   "display_name": "Python 3",
   "language": "python",
   "name": "python3"
  },
  "language_info": {
   "codemirror_mode": {
    "name": "ipython",
    "version": 3
   },
   "file_extension": ".py",
   "mimetype": "text/x-python",
   "name": "python",
   "nbconvert_exporter": "python",
   "pygments_lexer": "ipython3",
   "version": "3.8.2"
  }
 },
 "nbformat": 4,
 "nbformat_minor": 4
}
