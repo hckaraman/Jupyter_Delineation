{
 "cells": [
  {
   "cell_type": "code",
   "execution_count": 1,
   "metadata": {},
   "outputs": [],
   "source": [
    "import json\n",
    "\n",
    "from ipyleaflet import AwesomeIcon, Marker, Map"
   ]
  },
  {
   "cell_type": "code",
   "execution_count": 2,
   "metadata": {},
   "outputs": [],
   "source": [
    "markers = []"
   ]
  },
  {
   "cell_type": "code",
   "execution_count": 3,
   "metadata": {},
   "outputs": [],
   "source": [
    "with open('./bars.json', 'r') as fobj:\n",
    "    bars = json.load(fobj)"
   ]
  },
  {
   "cell_type": "code",
   "execution_count": 4,
   "metadata": {},
   "outputs": [],
   "source": [
    "for feature in bars['features']:\n",
    "    symbol = feature['properties']['marker-symbol']\n",
    "    coords = feature['geometry']['coordinates']\n",
    "    \n",
    "    icon = AwesomeIcon(\n",
    "        name=symbol,\n",
    "        marker_color='red' if symbol == 'bus' else 'blue'\n",
    "    )\n",
    "    markers.append(Marker(icon=icon, location=(coords[1], coords[0])))"
   ]
  },
  {
   "cell_type": "code",
   "execution_count": 5,
   "metadata": {},
   "outputs": [
    {
     "data": {
      "application/vnd.jupyter.widget-view+json": {
       "model_id": "bbe4f793b29d4017a9ae775b20d7b343",
       "version_major": 2,
       "version_minor": 0
      },
      "text/plain": [
       "Map(center=[38.91342738235981, -77.03912909142674], controls=(ZoomControl(options=['position', 'zoom_in_text',…"
      ]
     },
     "metadata": {},
     "output_type": "display_data"
    }
   ],
   "source": [
    "m = Map(center=(38.91342738235981, -77.03912909142674), zoom=13)\n",
    "\n",
    "for marker in markers:\n",
    "    m += marker\n",
    "\n",
    "m"
   ]
  },
  {
   "cell_type": "code",
   "execution_count": 7,
   "metadata": {},
   "outputs": [],
   "source": [
    "markers[0].icon = AwesomeIcon(name='spinner', marker_color='green', icon_color='darkgreen', spin=True)"
   ]
  },
  {
   "cell_type": "code",
   "execution_count": null,
   "metadata": {},
   "outputs": [],
   "source": []
  }
 ],
 "metadata": {
  "kernelspec": {
   "display_name": "Python 3",
   "language": "python",
   "name": "python3"
  },
  "language_info": {
   "codemirror_mode": {
    "name": "ipython",
    "version": 3
   },
   "file_extension": ".py",
   "mimetype": "text/x-python",
   "name": "python",
   "nbconvert_exporter": "python",
   "pygments_lexer": "ipython3",
   "version": "3.8.2"
  }
 },
 "nbformat": 4,
 "nbformat_minor": 4
}
